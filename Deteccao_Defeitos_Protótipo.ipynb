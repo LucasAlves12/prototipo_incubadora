{
 "cells": [
  {
   "cell_type": "markdown",
   "id": "638b8671",
   "metadata": {},
   "source": [
    "# Protótipo de Detecção de Defeitos em Pacotes de Bolachas"
   ]
  },
  {
   "cell_type": "code",
   "execution_count": null,
   "id": "ccfb0f32",
   "metadata": {},
   "outputs": [],
   "source": [
    "\n",
    "# Importando as bibliotecas necessárias\n",
    "import cv2\n",
    "import numpy as np\n",
    "from tensorflow.keras.models import Sequential\n",
    "from tensorflow.keras.layers import Conv2D, MaxPooling2D, Flatten, Dense\n",
    "from tensorflow.keras.preprocessing.image import ImageDataGenerator\n",
    "from tensorflow.keras.utils import to_categorical\n",
    "from sklearn.model_selection import train_test_split\n",
    "import os\n",
    "    "
   ]
  },
  {
   "cell_type": "markdown",
   "id": "b2e97fcf",
   "metadata": {},
   "source": [
    "## 1. Configuração de Dados e Preprocessamento"
   ]
  },
  {
   "cell_type": "code",
   "execution_count": null,
   "id": "51d0541c",
   "metadata": {},
   "outputs": [],
   "source": [
    "\n",
    "# Configuração de diretórios\n",
    "base_dir = 'dados'  # Substituir pelo caminho onde estão as imagens\n",
    "classes = ['perfeito', 'defeituoso']\n",
    "\n",
    "# Leitura e preprocessamento de imagens\n",
    "def carregar_imagens(base_dir, classes, img_size=(128, 128)):\n",
    "    imagens = []\n",
    "    labels = []\n",
    "    for idx, classe in enumerate(classes):\n",
    "        dir_classe = os.path.join(base_dir, classe)\n",
    "        for arquivo in os.listdir(dir_classe):\n",
    "            caminho_arquivo = os.path.join(dir_classe, arquivo)\n",
    "            imagem = cv2.imread(caminho_arquivo)\n",
    "            imagem = cv2.resize(imagem, img_size)\n",
    "            imagens.append(imagem)\n",
    "            labels.append(idx)\n",
    "    imagens = np.array(imagens) / 255.0  # Normalização\n",
    "    labels = to_categorical(labels, num_classes=len(classes))  # One-hot encoding\n",
    "    return imagens, labels\n",
    "\n",
    "# Carregando os dados\n",
    "imagens, labels = carregar_imagens(base_dir, classes)\n",
    "X_train, X_test, y_train, y_test = train_test_split(imagens, labels, test_size=0.2, random_state=42)\n",
    "    "
   ]
  },
  {
   "cell_type": "markdown",
   "id": "3c053ad4",
   "metadata": {},
   "source": [
    "## 2. Construção do Modelo CNN"
   ]
  },
  {
   "cell_type": "code",
   "execution_count": null,
   "id": "e32e56a8",
   "metadata": {},
   "outputs": [],
   "source": [
    "\n",
    "# Construção do modelo\n",
    "model = Sequential([\n",
    "    Conv2D(32, (3, 3), activation='relu', input_shape=(128, 128, 3)),\n",
    "    MaxPooling2D((2, 2)),\n",
    "    Conv2D(64, (3, 3), activation='relu'),\n",
    "    MaxPooling2D((2, 2)),\n",
    "    Flatten(),\n",
    "    Dense(128, activation='relu'),\n",
    "    Dense(len(classes), activation='softmax')  # Saída com o número de classes\n",
    "])\n",
    "\n",
    "model.compile(optimizer='adam', loss='categorical_crossentropy', metrics=['accuracy'])\n",
    "model.summary()\n",
    "    "
   ]
  },
  {
   "cell_type": "markdown",
   "id": "05c146ce",
   "metadata": {},
   "source": [
    "## 3. Augmentação de Dados e Treinamento"
   ]
  },
  {
   "cell_type": "code",
   "execution_count": null,
   "id": "62360c26",
   "metadata": {},
   "outputs": [],
   "source": [
    "\n",
    "# Augmentação de dados\n",
    "datagen = ImageDataGenerator(\n",
    "    rotation_range=20,\n",
    "    width_shift_range=0.2,\n",
    "    height_shift_range=0.2,\n",
    "    zoom_range=0.2,\n",
    "    horizontal_flip=True\n",
    ")\n",
    "\n",
    "# Treinamento\n",
    "batch_size = 16\n",
    "train_generator = datagen.flow(X_train, y_train, batch_size=batch_size)\n",
    "history = model.fit(train_generator, epochs=10, validation_data=(X_test, y_test))\n",
    "    "
   ]
  },
  {
   "cell_type": "markdown",
   "id": "50f9b513",
   "metadata": {},
   "source": [
    "## 4. Teste em Tempo Real com Webcam"
   ]
  },
  {
   "cell_type": "code",
   "execution_count": null,
   "id": "9d698d05",
   "metadata": {},
   "outputs": [],
   "source": [
    "\n",
    "# Captura e classificação em tempo real\n",
    "cap = cv2.VideoCapture(0)\n",
    "\n",
    "while True:\n",
    "    ret, frame = cap.read()\n",
    "    if not ret:\n",
    "        break\n",
    "    # Pré-processamento do frame\n",
    "    frame_resized = cv2.resize(frame, (128, 128))\n",
    "    frame_normalized = frame_resized / 255.0\n",
    "    prediction = model.predict(np.expand_dims(frame_normalized, axis=0))\n",
    "    class_name = classes[np.argmax(prediction)]\n",
    "\n",
    "    # Exibição do resultado\n",
    "    cv2.putText(frame, class_name, (10, 50), cv2.FONT_HERSHEY_SIMPLEX, 1, (0, 255, 0), 2)\n",
    "    cv2.imshow('Detecção de Defeitos', frame)\n",
    "\n",
    "    if cv2.waitKey(1) & 0xFF == ord('q'):\n",
    "        break\n",
    "\n",
    "cap.release()\n",
    "cv2.destroyAllWindows()\n",
    "    "
   ]
  }
 ],
 "metadata": {
  "kernelspec": {
   "display_name": "Python 3 (ipykernel)",
   "language": "python",
   "name": "python3"
  },
  "language_info": {
   "codemirror_mode": {
    "name": "ipython",
    "version": 3
   },
   "file_extension": ".py",
   "mimetype": "text/x-python",
   "name": "python",
   "nbconvert_exporter": "python",
   "pygments_lexer": "ipython3",
   "version": "3.12.6"
  }
 },
 "nbformat": 4,
 "nbformat_minor": 5
}
